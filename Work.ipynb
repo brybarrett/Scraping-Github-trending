{
 "cells": [
  {
   "attachments": {},
   "cell_type": "markdown",
   "metadata": {},
   "source": [
    "# 定时抓取Github Trending里的数据\n",
    "\n",
    "思路：\n",
    "- 爬下来数据，按日、周、月存储起来\n",
    "- 分项目和人"
   ]
  },
  {
   "attachments": {},
   "cell_type": "markdown",
   "metadata": {},
   "source": [
    "## 获取Trending数据\n",
    "\n",
    "- https://github.com/alisoft/github-trending-api"
   ]
  },
  {
   "cell_type": "code",
   "execution_count": null,
   "metadata": {},
   "outputs": [],
   "source": [
    "https://api.gitterapp.com/repositories?language=javascript&since=weekly\n",
    "https://api.gitterapp.com/developers?language=javascript&since=weekly\n",
    "\n"
   ]
  },
  {
   "cell_type": "code",
   "execution_count": 4,
   "metadata": {},
   "outputs": [
    {
     "name": "stdout",
     "output_type": "stream",
     "text": [
      "Programming Languages:\n",
      "{'color': '#814CCC', 'url': 'https://github.com/trending?l=1C Enterprise', 'name': '1c-enterprise', 'title': '1C Enterprise'}\n",
      "{'color': '#38761D', 'url': 'https://github.com/trending?l=2-Dimensional Array', 'name': '2-dimensional-array', 'title': '2-Dimensional Array'}\n",
      "{'color': '#004289', 'url': 'https://github.com/trending?l=4D', 'name': '4d', 'title': '4D'}\n",
      "{'color': '#E8274B', 'url': 'https://github.com/trending?l=ABAP', 'name': 'abap', 'title': 'ABAP'}\n",
      "{'color': '#555e25', 'url': 'https://github.com/trending?l=ABAP CDS', 'name': 'abap-cds', 'title': 'ABAP CDS'}\n",
      "Spoken Languages:\n",
      "{'name': 'ab', 'title': 'Abkhazian'}\n",
      "{'name': 'aa', 'title': 'Afar'}\n",
      "{'name': 'af', 'title': 'Afrikaans'}\n",
      "{'name': 'ak', 'title': 'Akan'}\n",
      "{'name': 'sq', 'title': 'Albanian'}\n"
     ]
    },
    {
     "name": "stderr",
     "output_type": "stream",
     "text": [
      "/Users/guokun/code/python/p38/lib/python3.8/site-packages/urllib3/connectionpool.py:1013: InsecureRequestWarning: Unverified HTTPS request is being made to host '127.0.0.1'. Adding certificate verification is strongly advised. See: https://urllib3.readthedocs.io/en/1.26.x/advanced-usage.html#ssl-warnings\n",
      "  warnings.warn(\n"
     ]
    }
   ],
   "source": [
    "from lib.trend_utils import languages_list\n",
    "\n",
    "print(\"Programming Languages:\")\n",
    "for l in languages_list()[:5]:\n",
    "    print(l)"
   ]
  },
  {
   "cell_type": "code",
   "execution_count": 2,
   "metadata": {},
   "outputs": [
    {
     "name": "stdout",
     "output_type": "stream",
     "text": [
      "{'author': 'xtekky', 'name': 'gpt4free', 'avatar': 'https://github.com/xtekky.png', 'url': 'https://github.com/xtekky/gpt4free', 'description': \"decentralising the Ai Industry, just some language model api's...\", 'language': 'Python', 'languageColor': '#3572A5', 'stars': 17248, 'forks': 2142, 'currentPeriodStars': 1873, 'builtBy': [{'username': 'xtekky', 'href': 'https://github.com/xtekky', 'avatar': 'https://avatars.githubusercontent.com/u/98614666'}, {'username': 'sudouser777', 'href': 'https://github.com/sudouser777', 'avatar': 'https://avatars.githubusercontent.com/u/22415463'}, {'username': 'DanielShemesh', 'href': 'https://github.com/DanielShemesh', 'avatar': 'https://avatars.githubusercontent.com/u/20585236'}, {'username': 'repollo', 'href': 'https://github.com/repollo', 'avatar': 'https://avatars.githubusercontent.com/u/2671466'}, {'username': '9fo', 'href': 'https://github.com/9fo', 'avatar': 'https://avatars.githubusercontent.com/u/71867245'}]}\n"
     ]
    },
    {
     "name": "stderr",
     "output_type": "stream",
     "text": [
      "/Users/guokun/code/python/p38/lib/python3.8/site-packages/urllib3/connectionpool.py:1013: InsecureRequestWarning: Unverified HTTPS request is being made to host '127.0.0.1'. Adding certificate verification is strongly advised. See: https://urllib3.readthedocs.io/en/1.26.x/advanced-usage.html#ssl-warnings\n",
      "  warnings.warn(\n"
     ]
    },
    {
     "name": "stdout",
     "output_type": "stream",
     "text": [
      "{'username': 'johanneskoester', 'name': 'Johannes Köster', 'url': 'https://github.com/johanneskoester', 'avatar': 'https://avatars.githubusercontent.com/u/1858646'}\n"
     ]
    }
   ],
   "source": [
    "from lib.fetch import fetch_developers, fetch_repos\n",
    "\n",
    "for r in fetch_repos()[:1]:\n",
    "    print(r)\n",
    "\n",
    "for r in fetch_developers()[:1]:\n",
    "    print(r)\n"
   ]
  }
 ],
 "metadata": {
  "kernelspec": {
   "display_name": "p38",
   "language": "python",
   "name": "python3"
  },
  "language_info": {
   "codemirror_mode": {
    "name": "ipython",
    "version": 3
   },
   "file_extension": ".py",
   "mimetype": "text/x-python",
   "name": "python",
   "nbconvert_exporter": "python",
   "pygments_lexer": "ipython3",
   "version": "3.8.9"
  },
  "orig_nbformat": 4
 },
 "nbformat": 4,
 "nbformat_minor": 2
}
